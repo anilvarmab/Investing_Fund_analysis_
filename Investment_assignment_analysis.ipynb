{
 "cells": [
  {
   "cell_type": "raw",
   "metadata": {},
   "source": [
    "#Useful Links\n",
    "#https://www.shanelynn.ie/python-pandas-read_csv-load-data-from-csv-files/"
   ]
  },
  {
   "cell_type": "code",
   "execution_count": null,
   "metadata": {},
   "outputs": [],
   "source": []
  },
  {
   "cell_type": "code",
   "execution_count": 270,
   "metadata": {
    "scrolled": true
   },
   "outputs": [
    {
     "data": {
      "text/html": [
       "<div>\n",
       "<style scoped>\n",
       "    .dataframe tbody tr th:only-of-type {\n",
       "        vertical-align: middle;\n",
       "    }\n",
       "\n",
       "    .dataframe tbody tr th {\n",
       "        vertical-align: top;\n",
       "    }\n",
       "\n",
       "    .dataframe thead th {\n",
       "        text-align: right;\n",
       "    }\n",
       "</style>\n",
       "<table border=\"1\" class=\"dataframe\">\n",
       "  <thead>\n",
       "    <tr style=\"text-align: right;\">\n",
       "      <th></th>\n",
       "      <th>company_permalink</th>\n",
       "      <th>funding_round_permalink</th>\n",
       "      <th>funding_round_type</th>\n",
       "      <th>funding_round_code</th>\n",
       "      <th>funded_at</th>\n",
       "      <th>raised_amount_usd</th>\n",
       "    </tr>\n",
       "  </thead>\n",
       "  <tbody>\n",
       "    <tr>\n",
       "      <th>0</th>\n",
       "      <td>/organization/-fame</td>\n",
       "      <td>/funding-round/9a01d05418af9f794eebff7ace91f638</td>\n",
       "      <td>venture</td>\n",
       "      <td>B</td>\n",
       "      <td>05-01-2015</td>\n",
       "      <td>10000000.0</td>\n",
       "    </tr>\n",
       "    <tr>\n",
       "      <th>1</th>\n",
       "      <td>/ORGANIZATION/-QOUNTER</td>\n",
       "      <td>/funding-round/22dacff496eb7acb2b901dec1dfe5633</td>\n",
       "      <td>venture</td>\n",
       "      <td>A</td>\n",
       "      <td>14-10-2014</td>\n",
       "      <td>NaN</td>\n",
       "    </tr>\n",
       "    <tr>\n",
       "      <th>2</th>\n",
       "      <td>/organization/-qounter</td>\n",
       "      <td>/funding-round/b44fbb94153f6cdef13083530bb48030</td>\n",
       "      <td>seed</td>\n",
       "      <td>NaN</td>\n",
       "      <td>01-03-2014</td>\n",
       "      <td>700000.0</td>\n",
       "    </tr>\n",
       "    <tr>\n",
       "      <th>3</th>\n",
       "      <td>/ORGANIZATION/-THE-ONE-OF-THEM-INC-</td>\n",
       "      <td>/funding-round/650b8f704416801069bb178a1418776b</td>\n",
       "      <td>venture</td>\n",
       "      <td>B</td>\n",
       "      <td>30-01-2014</td>\n",
       "      <td>3406878.0</td>\n",
       "    </tr>\n",
       "    <tr>\n",
       "      <th>4</th>\n",
       "      <td>/organization/0-6-com</td>\n",
       "      <td>/funding-round/5727accaeaa57461bd22a9bdd945382d</td>\n",
       "      <td>venture</td>\n",
       "      <td>A</td>\n",
       "      <td>19-03-2008</td>\n",
       "      <td>2000000.0</td>\n",
       "    </tr>\n",
       "  </tbody>\n",
       "</table>\n",
       "</div>"
      ],
      "text/plain": [
       "                     company_permalink  \\\n",
       "0                  /organization/-fame   \n",
       "1               /ORGANIZATION/-QOUNTER   \n",
       "2               /organization/-qounter   \n",
       "3  /ORGANIZATION/-THE-ONE-OF-THEM-INC-   \n",
       "4                /organization/0-6-com   \n",
       "\n",
       "                           funding_round_permalink funding_round_type  \\\n",
       "0  /funding-round/9a01d05418af9f794eebff7ace91f638            venture   \n",
       "1  /funding-round/22dacff496eb7acb2b901dec1dfe5633            venture   \n",
       "2  /funding-round/b44fbb94153f6cdef13083530bb48030               seed   \n",
       "3  /funding-round/650b8f704416801069bb178a1418776b            venture   \n",
       "4  /funding-round/5727accaeaa57461bd22a9bdd945382d            venture   \n",
       "\n",
       "  funding_round_code   funded_at  raised_amount_usd  \n",
       "0                  B  05-01-2015         10000000.0  \n",
       "1                  A  14-10-2014                NaN  \n",
       "2                NaN  01-03-2014           700000.0  \n",
       "3                  B  30-01-2014          3406878.0  \n",
       "4                  A  19-03-2008          2000000.0  "
      ]
     },
     "execution_count": 270,
     "metadata": {},
     "output_type": "execute_result"
    }
   ],
   "source": [
    "#Import Libraries\n",
    "import pandas as pd\n",
    "import numpy as np\n",
    "import matplotlib.pyplot as plt\n",
    "import seaborn as sns\n",
    "\n",
    "#importing rounds2.csv file using read_csv(),\n",
    "\n",
    "rounds2=pd.read_csv(r\"C:\\\\Users\\\\Priyanka\\\\Downloads\\\\Anil\\\\Machine Learning and NLP Python documents\\\\Statistics and Machine Learning\\\\Module4_Investment_assignment\\\\rounds2.csv\",\n",
    "                    encoding='ISO-8859-1')\n",
    "rounds2.head()\n",
    "#rounds2[rounds2.duplicated(subset=['company_permalink','funding_round_type','funding_round_code','funded_at','raised_amount_usd'],keep=False)].sort_values(by=['company_permalink'])"
   ]
  },
  {
   "cell_type": "code",
   "execution_count": 271,
   "metadata": {},
   "outputs": [
    {
     "name": "stdout",
     "output_type": "stream",
     "text": [
      "Index(['company_permalink', 'funding_round_permalink', 'funding_round_type',\n",
      "       'funding_round_code', 'funded_at', 'raised_amount_usd'],\n",
      "      dtype='object')\n",
      "(114949, 6)\n",
      "<class 'pandas.core.frame.DataFrame'>\n",
      "RangeIndex: 114949 entries, 0 to 114948\n",
      "Data columns (total 6 columns):\n",
      "company_permalink          114949 non-null object\n",
      "funding_round_permalink    114949 non-null object\n",
      "funding_round_type         114949 non-null object\n",
      "funding_round_code         31140 non-null object\n",
      "funded_at                  114949 non-null object\n",
      "raised_amount_usd          94959 non-null float64\n",
      "dtypes: float64(1), object(5)\n",
      "memory usage: 5.3+ MB\n",
      "None\n"
     ]
    }
   ],
   "source": [
    "#Getting to Know the data in rounds2.csv\n",
    "print(rounds2.columns)\n",
    "print(rounds2.shape)\n",
    "print(rounds2.info())"
   ]
  },
  {
   "cell_type": "code",
   "execution_count": 272,
   "metadata": {},
   "outputs": [
    {
     "data": {
      "text/plain": [
       "company_permalink              0\n",
       "funding_round_permalink        0\n",
       "funding_round_type             0\n",
       "funding_round_code         83809\n",
       "funded_at                      0\n",
       "raised_amount_usd          19990\n",
       "dtype: int64"
      ]
     },
     "execution_count": 272,
     "metadata": {},
     "output_type": "execute_result"
    }
   ],
   "source": [
    "#Identifying missing values in rounds2.csv\n",
    "rounds2.isnull().sum() #Column wise"
   ]
  },
  {
   "cell_type": "code",
   "execution_count": 273,
   "metadata": {},
   "outputs": [
    {
     "data": {
      "text/plain": [
       "0"
      ]
     },
     "execution_count": 273,
     "metadata": {},
     "output_type": "execute_result"
    }
   ],
   "source": [
    "#Check if any row contains all null values\n",
    "rounds2.isnull().all(axis=1).sum()"
   ]
  },
  {
   "cell_type": "code",
   "execution_count": 274,
   "metadata": {},
   "outputs": [
    {
     "data": {
      "text/plain": [
       "90247"
      ]
     },
     "execution_count": 274,
     "metadata": {},
     "output_type": "execute_result"
    }
   ],
   "source": [
    "#Unique companies in rounds2.csv before cleaning\n",
    "rounds2['company_permalink'].nunique()"
   ]
  },
  {
   "cell_type": "code",
   "execution_count": 275,
   "metadata": {},
   "outputs": [
    {
     "data": {
      "text/html": [
       "<div>\n",
       "<style scoped>\n",
       "    .dataframe tbody tr th:only-of-type {\n",
       "        vertical-align: middle;\n",
       "    }\n",
       "\n",
       "    .dataframe tbody tr th {\n",
       "        vertical-align: top;\n",
       "    }\n",
       "\n",
       "    .dataframe thead th {\n",
       "        text-align: right;\n",
       "    }\n",
       "</style>\n",
       "<table border=\"1\" class=\"dataframe\">\n",
       "  <thead>\n",
       "    <tr style=\"text-align: right;\">\n",
       "      <th></th>\n",
       "      <th>company_permalink</th>\n",
       "      <th>funding_round_permalink</th>\n",
       "      <th>funding_round_type</th>\n",
       "      <th>funding_round_code</th>\n",
       "      <th>funded_at</th>\n",
       "      <th>raised_amount_usd</th>\n",
       "    </tr>\n",
       "  </thead>\n",
       "  <tbody>\n",
       "    <tr>\n",
       "      <th>0</th>\n",
       "      <td>/organization/-fame</td>\n",
       "      <td>/funding-round/9a01d05418af9f794eebff7ace91f638</td>\n",
       "      <td>venture</td>\n",
       "      <td>B</td>\n",
       "      <td>05-01-2015</td>\n",
       "      <td>10000000.0</td>\n",
       "    </tr>\n",
       "    <tr>\n",
       "      <th>1</th>\n",
       "      <td>/organization/-qounter</td>\n",
       "      <td>/funding-round/22dacff496eb7acb2b901dec1dfe5633</td>\n",
       "      <td>venture</td>\n",
       "      <td>A</td>\n",
       "      <td>14-10-2014</td>\n",
       "      <td>NaN</td>\n",
       "    </tr>\n",
       "    <tr>\n",
       "      <th>2</th>\n",
       "      <td>/organization/-qounter</td>\n",
       "      <td>/funding-round/b44fbb94153f6cdef13083530bb48030</td>\n",
       "      <td>seed</td>\n",
       "      <td>NaN</td>\n",
       "      <td>01-03-2014</td>\n",
       "      <td>700000.0</td>\n",
       "    </tr>\n",
       "    <tr>\n",
       "      <th>3</th>\n",
       "      <td>/organization/-the-one-of-them-inc-</td>\n",
       "      <td>/funding-round/650b8f704416801069bb178a1418776b</td>\n",
       "      <td>venture</td>\n",
       "      <td>B</td>\n",
       "      <td>30-01-2014</td>\n",
       "      <td>3406878.0</td>\n",
       "    </tr>\n",
       "    <tr>\n",
       "      <th>4</th>\n",
       "      <td>/organization/0-6-com</td>\n",
       "      <td>/funding-round/5727accaeaa57461bd22a9bdd945382d</td>\n",
       "      <td>venture</td>\n",
       "      <td>A</td>\n",
       "      <td>19-03-2008</td>\n",
       "      <td>2000000.0</td>\n",
       "    </tr>\n",
       "  </tbody>\n",
       "</table>\n",
       "</div>"
      ],
      "text/plain": [
       "                     company_permalink  \\\n",
       "0                  /organization/-fame   \n",
       "1               /organization/-qounter   \n",
       "2               /organization/-qounter   \n",
       "3  /organization/-the-one-of-them-inc-   \n",
       "4                /organization/0-6-com   \n",
       "\n",
       "                           funding_round_permalink funding_round_type  \\\n",
       "0  /funding-round/9a01d05418af9f794eebff7ace91f638            venture   \n",
       "1  /funding-round/22dacff496eb7acb2b901dec1dfe5633            venture   \n",
       "2  /funding-round/b44fbb94153f6cdef13083530bb48030               seed   \n",
       "3  /funding-round/650b8f704416801069bb178a1418776b            venture   \n",
       "4  /funding-round/5727accaeaa57461bd22a9bdd945382d            venture   \n",
       "\n",
       "  funding_round_code   funded_at  raised_amount_usd  \n",
       "0                  B  05-01-2015         10000000.0  \n",
       "1                  A  14-10-2014                NaN  \n",
       "2                NaN  01-03-2014           700000.0  \n",
       "3                  B  30-01-2014          3406878.0  \n",
       "4                  A  19-03-2008          2000000.0  "
      ]
     },
     "execution_count": 275,
     "metadata": {},
     "output_type": "execute_result"
    }
   ],
   "source": [
    "#Conversion of company_permalink to lowercase as it is the common column for merge\n",
    "rounds2.company_permalink=rounds2['company_permalink'].str.lower() \n",
    "rounds2.head()"
   ]
  },
  {
   "cell_type": "code",
   "execution_count": 276,
   "metadata": {},
   "outputs": [
    {
     "data": {
      "text/plain": [
       "66370"
      ]
     },
     "execution_count": 276,
     "metadata": {},
     "output_type": "execute_result"
    }
   ],
   "source": [
    "#unique company count after cleaning\n",
    "rounds2['company_permalink'].nunique()"
   ]
  },
  {
   "cell_type": "code",
   "execution_count": 277,
   "metadata": {},
   "outputs": [
    {
     "name": "stdout",
     "output_type": "stream",
     "text": [
      "Index(['permalink', 'name', 'homepage_url', 'category_list', 'status',\n",
      "       'country_code', 'state_code', 'region', 'city', 'founded_at'],\n",
      "      dtype='object')\n",
      "(66368, 10)\n",
      "<class 'pandas.core.frame.DataFrame'>\n",
      "RangeIndex: 66368 entries, 0 to 66367\n",
      "Data columns (total 10 columns):\n",
      "permalink        66368 non-null object\n",
      "name             66367 non-null object\n",
      "homepage_url     61310 non-null object\n",
      "category_list    63220 non-null object\n",
      "status           66368 non-null object\n",
      "country_code     59410 non-null object\n",
      "state_code       57821 non-null object\n",
      "region           58338 non-null object\n",
      "city             58340 non-null object\n",
      "founded_at       51147 non-null object\n",
      "dtypes: object(10)\n",
      "memory usage: 5.1+ MB\n",
      "None\n",
      "66368\n"
     ]
    }
   ],
   "source": [
    "#importing  companies.txt file using read_csv(), \n",
    "#seperator/delimiter is a tab for txt file, \n",
    "\n",
    "companies=pd.read_csv(r\"C:\\\\Users\\\\Priyanka\\\\Downloads\\\\Anil\\\\Machine Learning and NLP Python documents\\\\Statistics and Machine Learning\\\\Module4_Investment_assignment\\\\companies.txt\",\n",
    "                      sep=\"\\t\", encoding = \"ISO-8859-1\", escapechar=None)\n",
    "\n",
    "#Getting to Know the data in rounds2.csv\n",
    "print(companies.columns)\n",
    "print(companies.shape)\n",
    "print(companies.info())\n",
    "print(companies['permalink'].nunique())"
   ]
  },
  {
   "cell_type": "code",
   "execution_count": 278,
   "metadata": {},
   "outputs": [
    {
     "name": "stdout",
     "output_type": "stream",
     "text": [
      "66368\n"
     ]
    }
   ],
   "source": [
    "#converting the values in permalink column to lower string to get the unique company count\n",
    "companies.permalink=companies['permalink'].str.lower()\n",
    "print(companies['permalink'].nunique())"
   ]
  },
  {
   "cell_type": "code",
   "execution_count": 279,
   "metadata": {},
   "outputs": [
    {
     "data": {
      "text/plain": [
       "array(['operating', 'acquired', 'closed', 'ipo'], dtype=object)"
      ]
     },
     "execution_count": 279,
     "metadata": {},
     "output_type": "execute_result"
    }
   ],
   "source": [
    "companies.status.unique()"
   ]
  },
  {
   "cell_type": "code",
   "execution_count": 280,
   "metadata": {},
   "outputs": [
    {
     "data": {
      "text/html": [
       "<div>\n",
       "<style scoped>\n",
       "    .dataframe tbody tr th:only-of-type {\n",
       "        vertical-align: middle;\n",
       "    }\n",
       "\n",
       "    .dataframe tbody tr th {\n",
       "        vertical-align: top;\n",
       "    }\n",
       "\n",
       "    .dataframe thead th {\n",
       "        text-align: right;\n",
       "    }\n",
       "</style>\n",
       "<table border=\"1\" class=\"dataframe\">\n",
       "  <thead>\n",
       "    <tr style=\"text-align: right;\">\n",
       "      <th></th>\n",
       "      <th>company_permalink</th>\n",
       "      <th>funding_round_permalink</th>\n",
       "      <th>funding_round_type</th>\n",
       "      <th>funding_round_code</th>\n",
       "      <th>funded_at</th>\n",
       "      <th>raised_amount_usd</th>\n",
       "    </tr>\n",
       "  </thead>\n",
       "  <tbody>\n",
       "    <tr>\n",
       "      <th>0</th>\n",
       "      <td>/organization/-fame</td>\n",
       "      <td>/funding-round/9a01d05418af9f794eebff7ace91f638</td>\n",
       "      <td>venture</td>\n",
       "      <td>B</td>\n",
       "      <td>05-01-2015</td>\n",
       "      <td>10000000.0</td>\n",
       "    </tr>\n",
       "    <tr>\n",
       "      <th>1</th>\n",
       "      <td>/organization/-qounter</td>\n",
       "      <td>/funding-round/22dacff496eb7acb2b901dec1dfe5633</td>\n",
       "      <td>venture</td>\n",
       "      <td>A</td>\n",
       "      <td>14-10-2014</td>\n",
       "      <td>NaN</td>\n",
       "    </tr>\n",
       "    <tr>\n",
       "      <th>2</th>\n",
       "      <td>/organization/-qounter</td>\n",
       "      <td>/funding-round/b44fbb94153f6cdef13083530bb48030</td>\n",
       "      <td>seed</td>\n",
       "      <td>NaN</td>\n",
       "      <td>01-03-2014</td>\n",
       "      <td>700000.0</td>\n",
       "    </tr>\n",
       "    <tr>\n",
       "      <th>3</th>\n",
       "      <td>/organization/-the-one-of-them-inc-</td>\n",
       "      <td>/funding-round/650b8f704416801069bb178a1418776b</td>\n",
       "      <td>venture</td>\n",
       "      <td>B</td>\n",
       "      <td>30-01-2014</td>\n",
       "      <td>3406878.0</td>\n",
       "    </tr>\n",
       "    <tr>\n",
       "      <th>4</th>\n",
       "      <td>/organization/0-6-com</td>\n",
       "      <td>/funding-round/5727accaeaa57461bd22a9bdd945382d</td>\n",
       "      <td>venture</td>\n",
       "      <td>A</td>\n",
       "      <td>19-03-2008</td>\n",
       "      <td>2000000.0</td>\n",
       "    </tr>\n",
       "  </tbody>\n",
       "</table>\n",
       "</div>"
      ],
      "text/plain": [
       "                     company_permalink  \\\n",
       "0                  /organization/-fame   \n",
       "1               /organization/-qounter   \n",
       "2               /organization/-qounter   \n",
       "3  /organization/-the-one-of-them-inc-   \n",
       "4                /organization/0-6-com   \n",
       "\n",
       "                           funding_round_permalink funding_round_type  \\\n",
       "0  /funding-round/9a01d05418af9f794eebff7ace91f638            venture   \n",
       "1  /funding-round/22dacff496eb7acb2b901dec1dfe5633            venture   \n",
       "2  /funding-round/b44fbb94153f6cdef13083530bb48030               seed   \n",
       "3  /funding-round/650b8f704416801069bb178a1418776b            venture   \n",
       "4  /funding-round/5727accaeaa57461bd22a9bdd945382d            venture   \n",
       "\n",
       "  funding_round_code   funded_at  raised_amount_usd  \n",
       "0                  B  05-01-2015         10000000.0  \n",
       "1                  A  14-10-2014                NaN  \n",
       "2                NaN  01-03-2014           700000.0  \n",
       "3                  B  30-01-2014          3406878.0  \n",
       "4                  A  19-03-2008          2000000.0  "
      ]
     },
     "execution_count": 280,
     "metadata": {},
     "output_type": "execute_result"
    }
   ],
   "source": [
    "rounds2.head()"
   ]
  },
  {
   "cell_type": "code",
   "execution_count": 281,
   "metadata": {},
   "outputs": [
    {
     "name": "stdout",
     "output_type": "stream",
     "text": [
      "<class 'pandas.core.frame.DataFrame'>\n",
      "Int64Index: 114942 entries, 0 to 114941\n",
      "Data columns (total 16 columns):\n",
      "company_permalink          114942 non-null object\n",
      "funding_round_permalink    114942 non-null object\n",
      "funding_round_type         114942 non-null object\n",
      "funding_round_code         31139 non-null object\n",
      "funded_at                  114942 non-null object\n",
      "raised_amount_usd          94958 non-null float64\n",
      "permalink                  114942 non-null object\n",
      "name                       114941 non-null object\n",
      "homepage_url               108810 non-null object\n",
      "category_list              111535 non-null object\n",
      "status                     114942 non-null object\n",
      "country_code               106271 non-null object\n",
      "state_code                 104003 non-null object\n",
      "region                     104782 non-null object\n",
      "city                       104785 non-null object\n",
      "founded_at                 94422 non-null object\n",
      "dtypes: float64(1), object(15)\n",
      "memory usage: 14.9+ MB\n"
     ]
    }
   ],
   "source": [
    "#Merge companies and rounds2 on permalink to create master_frame\n",
    "master_frame=pd.merge(rounds2,companies,how='inner',left_on=['company_permalink'],right_on=['permalink'])\n",
    "master_frame.info()"
   ]
  },
  {
   "cell_type": "code",
   "execution_count": 282,
   "metadata": {},
   "outputs": [
    {
     "name": "stdout",
     "output_type": "stream",
     "text": [
      "Index(['company_permalink', 'funding_round_permalink', 'funding_round_type',\n",
      "       'funding_round_code', 'funded_at', 'raised_amount_usd', 'permalink',\n",
      "       'name', 'homepage_url', 'category_list', 'status', 'country_code',\n",
      "       'state_code', 'region', 'city', 'founded_at'],\n",
      "      dtype='object')\n",
      "(114942, 16)\n",
      "66363\n",
      "66363\n"
     ]
    }
   ],
   "source": [
    "#Getting to know the master_frame data\n",
    "print(master_frame.columns)\n",
    "print(master_frame.shape)\n",
    "print(master_frame['permalink'].nunique())\n",
    "print(master_frame['company_permalink'].nunique())"
   ]
  },
  {
   "cell_type": "code",
   "execution_count": 283,
   "metadata": {},
   "outputs": [
    {
     "data": {
      "text/plain": [
       "['/organization/energystone-games-ç\\x81µçÿ³æ¸¸æ\\x88\\x8f',\n",
       " '/organization/huizuche-com-æ\\x83\\xa0ç§\\x9fè½¦',\n",
       " '/organization/tipcat-interactive-æ²\\x99è\\x88\\x9fä¿¡æ\\x81¯ç§\\x91æ\\x9a\\x80',\n",
       " '/organization/e-cã\\x9abica',\n",
       " '/organization/zengame-ç¦\\x85æ¸¸ç§\\x91æ\\x9a\\x80']"
      ]
     },
     "execution_count": 283,
     "metadata": {},
     "output_type": "execute_result"
    }
   ],
   "source": [
    "#Companies in rounds2 not present in companies\n",
    "list((set(companies['permalink'])).difference(set(rounds2['company_permalink'])))"
   ]
  },
  {
   "cell_type": "code",
   "execution_count": null,
   "metadata": {},
   "outputs": [],
   "source": []
  },
  {
   "cell_type": "code",
   "execution_count": 284,
   "metadata": {},
   "outputs": [
    {
     "data": {
      "text/html": [
       "<div>\n",
       "<style scoped>\n",
       "    .dataframe tbody tr th:only-of-type {\n",
       "        vertical-align: middle;\n",
       "    }\n",
       "\n",
       "    .dataframe tbody tr th {\n",
       "        vertical-align: top;\n",
       "    }\n",
       "\n",
       "    .dataframe thead th {\n",
       "        text-align: right;\n",
       "    }\n",
       "</style>\n",
       "<table border=\"1\" class=\"dataframe\">\n",
       "  <thead>\n",
       "    <tr style=\"text-align: right;\">\n",
       "      <th></th>\n",
       "      <th>company_permalink</th>\n",
       "      <th>funding_round_permalink</th>\n",
       "      <th>funding_round_type</th>\n",
       "      <th>funding_round_code</th>\n",
       "      <th>funded_at</th>\n",
       "      <th>raised_amount_usd</th>\n",
       "    </tr>\n",
       "  </thead>\n",
       "  <tbody>\n",
       "    <tr>\n",
       "      <th>109968</th>\n",
       "      <td>/organization/weiche-tech-åè½¦ç§æ</td>\n",
       "      <td>/funding-round/27b0cd2e0b75cbceb717343ea86c2c28</td>\n",
       "      <td>angel</td>\n",
       "      <td>NaN</td>\n",
       "      <td>16-06-2014</td>\n",
       "      <td>NaN</td>\n",
       "    </tr>\n",
       "    <tr>\n",
       "      <th>109969</th>\n",
       "      <td>/organization/weiche-tech-åè½¦ç§æ</td>\n",
       "      <td>/funding-round/f74e457f838b81fa0b29649740f186d8</td>\n",
       "      <td>venture</td>\n",
       "      <td>A</td>\n",
       "      <td>06-09-2015</td>\n",
       "      <td>NaN</td>\n",
       "    </tr>\n",
       "  </tbody>\n",
       "</table>\n",
       "</div>"
      ],
      "text/plain": [
       "                             company_permalink  \\\n",
       "109968  /organization/weiche-tech-åè½¦ç§æ   \n",
       "109969  /organization/weiche-tech-åè½¦ç§æ   \n",
       "\n",
       "                                funding_round_permalink funding_round_type  \\\n",
       "109968  /funding-round/27b0cd2e0b75cbceb717343ea86c2c28              angel   \n",
       "109969  /funding-round/f74e457f838b81fa0b29649740f186d8            venture   \n",
       "\n",
       "       funding_round_code   funded_at  raised_amount_usd  \n",
       "109968                NaN  16-06-2014                NaN  \n",
       "109969                  A  06-09-2015                NaN  "
      ]
     },
     "execution_count": 284,
     "metadata": {},
     "output_type": "execute_result"
    }
   ],
   "source": [
    "rounds2[rounds2['company_permalink'].str.contains(r'magnet-tech(?!$)')]\n",
    "rounds2[rounds2['company_permalink'].str.contains(r'weiche(?!$)')]"
   ]
  },
  {
   "cell_type": "code",
   "execution_count": null,
   "metadata": {},
   "outputs": [],
   "source": []
  },
  {
   "cell_type": "code",
   "execution_count": 285,
   "metadata": {},
   "outputs": [
    {
     "data": {
      "text/plain": [
       "company_permalink              0\n",
       "funding_round_permalink        0\n",
       "funding_round_type             0\n",
       "funding_round_code         83803\n",
       "funded_at                      0\n",
       "raised_amount_usd          19984\n",
       "permalink                      0\n",
       "name                           1\n",
       "homepage_url                6132\n",
       "category_list               3407\n",
       "status                         0\n",
       "country_code                8671\n",
       "state_code                 10939\n",
       "region                     10160\n",
       "city                       10157\n",
       "founded_at                 20520\n",
       "dtype: int64"
      ]
     },
     "execution_count": 285,
     "metadata": {},
     "output_type": "execute_result"
    }
   ],
   "source": [
    "#Finding missing values in master_frame\n",
    "master_frame.isnull().sum()"
   ]
  },
  {
   "cell_type": "code",
   "execution_count": 286,
   "metadata": {},
   "outputs": [
    {
     "data": {
      "text/plain": [
       "company_permalink           0.00\n",
       "funding_round_permalink     0.00\n",
       "funding_round_type          0.00\n",
       "funding_round_code         72.91\n",
       "funded_at                   0.00\n",
       "raised_amount_usd          17.39\n",
       "permalink                   0.00\n",
       "name                        0.00\n",
       "homepage_url                5.33\n",
       "category_list               2.96\n",
       "status                      0.00\n",
       "country_code                7.54\n",
       "state_code                  9.52\n",
       "region                      8.84\n",
       "city                        8.84\n",
       "founded_at                 17.85\n",
       "dtype: float64"
      ]
     },
     "execution_count": 286,
     "metadata": {},
     "output_type": "execute_result"
    }
   ],
   "source": [
    "#percentage of missing values is master_frame\n",
    "round(100*(master_frame.isnull().sum()/len(master_frame.index)),2)"
   ]
  },
  {
   "cell_type": "code",
   "execution_count": 287,
   "metadata": {},
   "outputs": [
    {
     "data": {
      "text/plain": [
       "array(['venture', 'seed', 'undisclosed', 'equity_crowdfunding',\n",
       "       'convertible_note', 'private_equity', 'debt_financing', 'angel',\n",
       "       'grant', 'secondary_market', 'post_ipo_equity', 'post_ipo_debt',\n",
       "       'product_crowdfunding', 'non_equity_assistance'], dtype=object)"
      ]
     },
     "execution_count": 287,
     "metadata": {},
     "output_type": "execute_result"
    }
   ],
   "source": [
    "master_frame['funding_round_type'].unique()"
   ]
  },
  {
   "cell_type": "code",
   "execution_count": null,
   "metadata": {},
   "outputs": [],
   "source": []
  },
  {
   "cell_type": "code",
   "execution_count": 288,
   "metadata": {},
   "outputs": [
    {
     "name": "stdout",
     "output_type": "stream",
     "text": [
      "83803\n",
      "19984\n",
      "20520\n"
     ]
    }
   ],
   "source": [
    "print(master_frame['funding_round_code'].isnull().sum())\n",
    "print(master_frame['raised_amount_usd'].isnull().sum())\n",
    "print(master_frame['founded_at'].isnull().sum())"
   ]
  },
  {
   "cell_type": "code",
   "execution_count": 289,
   "metadata": {},
   "outputs": [],
   "source": [
    "#Cleaning master_frame \n",
    "#drop funcding_round_code column due to high percentage of null values\n",
    "#remove rows with null values for raised_amount_usd\n",
    "\n",
    "master_frame=master_frame.drop('funding_round_code',axis=1)\n",
    "master_frame = master_frame[~np.isnan(master_frame['raised_amount_usd'])]"
   ]
  },
  {
   "cell_type": "code",
   "execution_count": 290,
   "metadata": {},
   "outputs": [
    {
     "data": {
      "text/html": [
       "<div>\n",
       "<style scoped>\n",
       "    .dataframe tbody tr th:only-of-type {\n",
       "        vertical-align: middle;\n",
       "    }\n",
       "\n",
       "    .dataframe tbody tr th {\n",
       "        vertical-align: top;\n",
       "    }\n",
       "\n",
       "    .dataframe thead th {\n",
       "        text-align: right;\n",
       "    }\n",
       "</style>\n",
       "<table border=\"1\" class=\"dataframe\">\n",
       "  <thead>\n",
       "    <tr style=\"text-align: right;\">\n",
       "      <th></th>\n",
       "      <th>company_permalink</th>\n",
       "      <th>funding_round_permalink</th>\n",
       "      <th>funding_round_type</th>\n",
       "      <th>funded_at</th>\n",
       "      <th>raised_amount_usd</th>\n",
       "      <th>permalink</th>\n",
       "      <th>name</th>\n",
       "      <th>homepage_url</th>\n",
       "      <th>category_list</th>\n",
       "      <th>status</th>\n",
       "      <th>country_code</th>\n",
       "      <th>state_code</th>\n",
       "      <th>region</th>\n",
       "      <th>city</th>\n",
       "      <th>founded_at</th>\n",
       "    </tr>\n",
       "  </thead>\n",
       "  <tbody>\n",
       "    <tr>\n",
       "      <th>0</th>\n",
       "      <td>/organization/-fame</td>\n",
       "      <td>/funding-round/9a01d05418af9f794eebff7ace91f638</td>\n",
       "      <td>venture</td>\n",
       "      <td>05-01-2015</td>\n",
       "      <td>10000000.0</td>\n",
       "      <td>/organization/-fame</td>\n",
       "      <td>#fame</td>\n",
       "      <td>http://livfame.com</td>\n",
       "      <td>Media</td>\n",
       "      <td>operating</td>\n",
       "      <td>IND</td>\n",
       "      <td>16</td>\n",
       "      <td>Mumbai</td>\n",
       "      <td>Mumbai</td>\n",
       "      <td>00-00-0000</td>\n",
       "    </tr>\n",
       "    <tr>\n",
       "      <th>2</th>\n",
       "      <td>/organization/-qounter</td>\n",
       "      <td>/funding-round/b44fbb94153f6cdef13083530bb48030</td>\n",
       "      <td>seed</td>\n",
       "      <td>01-03-2014</td>\n",
       "      <td>700000.0</td>\n",
       "      <td>/organization/-qounter</td>\n",
       "      <td>:Qounter</td>\n",
       "      <td>http://www.qounter.com</td>\n",
       "      <td>Application Platforms|Real Time|Social Network...</td>\n",
       "      <td>operating</td>\n",
       "      <td>USA</td>\n",
       "      <td>DE</td>\n",
       "      <td>DE - Other</td>\n",
       "      <td>Delaware City</td>\n",
       "      <td>04-09-2014</td>\n",
       "    </tr>\n",
       "    <tr>\n",
       "      <th>3</th>\n",
       "      <td>/organization/-the-one-of-them-inc-</td>\n",
       "      <td>/funding-round/650b8f704416801069bb178a1418776b</td>\n",
       "      <td>venture</td>\n",
       "      <td>30-01-2014</td>\n",
       "      <td>3406878.0</td>\n",
       "      <td>/organization/-the-one-of-them-inc-</td>\n",
       "      <td>(THE) ONE of THEM,Inc.</td>\n",
       "      <td>http://oneofthem.jp</td>\n",
       "      <td>Apps|Games|Mobile</td>\n",
       "      <td>operating</td>\n",
       "      <td>blanks</td>\n",
       "      <td>blanks</td>\n",
       "      <td>blanks</td>\n",
       "      <td>blanks</td>\n",
       "      <td>00-00-0000</td>\n",
       "    </tr>\n",
       "    <tr>\n",
       "      <th>4</th>\n",
       "      <td>/organization/0-6-com</td>\n",
       "      <td>/funding-round/5727accaeaa57461bd22a9bdd945382d</td>\n",
       "      <td>venture</td>\n",
       "      <td>19-03-2008</td>\n",
       "      <td>2000000.0</td>\n",
       "      <td>/organization/0-6-com</td>\n",
       "      <td>0-6.com</td>\n",
       "      <td>http://www.0-6.com</td>\n",
       "      <td>Curated Web</td>\n",
       "      <td>operating</td>\n",
       "      <td>CHN</td>\n",
       "      <td>22</td>\n",
       "      <td>Beijing</td>\n",
       "      <td>Beijing</td>\n",
       "      <td>01-01-2007</td>\n",
       "    </tr>\n",
       "    <tr>\n",
       "      <th>6</th>\n",
       "      <td>/organization/01games-technology</td>\n",
       "      <td>/funding-round/7d53696f2b4f607a2f2a8cbb83d01839</td>\n",
       "      <td>undisclosed</td>\n",
       "      <td>01-07-2014</td>\n",
       "      <td>41250.0</td>\n",
       "      <td>/organization/01games-technology</td>\n",
       "      <td>01Games Technology</td>\n",
       "      <td>http://www.01games.hk/</td>\n",
       "      <td>Games</td>\n",
       "      <td>operating</td>\n",
       "      <td>HKG</td>\n",
       "      <td>blanks</td>\n",
       "      <td>Hong Kong</td>\n",
       "      <td>Hong Kong</td>\n",
       "      <td>00-00-0000</td>\n",
       "    </tr>\n",
       "  </tbody>\n",
       "</table>\n",
       "</div>"
      ],
      "text/plain": [
       "                     company_permalink  \\\n",
       "0                  /organization/-fame   \n",
       "2               /organization/-qounter   \n",
       "3  /organization/-the-one-of-them-inc-   \n",
       "4                /organization/0-6-com   \n",
       "6     /organization/01games-technology   \n",
       "\n",
       "                           funding_round_permalink funding_round_type  \\\n",
       "0  /funding-round/9a01d05418af9f794eebff7ace91f638            venture   \n",
       "2  /funding-round/b44fbb94153f6cdef13083530bb48030               seed   \n",
       "3  /funding-round/650b8f704416801069bb178a1418776b            venture   \n",
       "4  /funding-round/5727accaeaa57461bd22a9bdd945382d            venture   \n",
       "6  /funding-round/7d53696f2b4f607a2f2a8cbb83d01839        undisclosed   \n",
       "\n",
       "    funded_at  raised_amount_usd                            permalink  \\\n",
       "0  05-01-2015         10000000.0                  /organization/-fame   \n",
       "2  01-03-2014           700000.0               /organization/-qounter   \n",
       "3  30-01-2014          3406878.0  /organization/-the-one-of-them-inc-   \n",
       "4  19-03-2008          2000000.0                /organization/0-6-com   \n",
       "6  01-07-2014            41250.0     /organization/01games-technology   \n",
       "\n",
       "                     name            homepage_url  \\\n",
       "0                   #fame      http://livfame.com   \n",
       "2                :Qounter  http://www.qounter.com   \n",
       "3  (THE) ONE of THEM,Inc.     http://oneofthem.jp   \n",
       "4                 0-6.com      http://www.0-6.com   \n",
       "6      01Games Technology  http://www.01games.hk/   \n",
       "\n",
       "                                       category_list     status country_code  \\\n",
       "0                                              Media  operating          IND   \n",
       "2  Application Platforms|Real Time|Social Network...  operating          USA   \n",
       "3                                  Apps|Games|Mobile  operating       blanks   \n",
       "4                                        Curated Web  operating          CHN   \n",
       "6                                              Games  operating          HKG   \n",
       "\n",
       "  state_code      region           city  founded_at  \n",
       "0         16      Mumbai         Mumbai  00-00-0000  \n",
       "2         DE  DE - Other  Delaware City  04-09-2014  \n",
       "3     blanks      blanks         blanks  00-00-0000  \n",
       "4         22     Beijing        Beijing  01-01-2007  \n",
       "6     blanks   Hong Kong      Hong Kong  00-00-0000  "
      ]
     },
     "execution_count": 290,
     "metadata": {},
     "output_type": "execute_result"
    }
   ],
   "source": [
    "#Imputing the missing values in founded_at column with a value\n",
    "master_frame.loc[:,'founded_at']=master_frame['founded_at'].fillna('00-00-0000')\n",
    "\n",
    "#missing value imputation for the rest of the column with blanks string\n",
    "master_frame.loc[:,'category_list']=master_frame['category_list'].fillna('blanks')\n",
    "master_frame.loc[:,'state_code']=master_frame['state_code'].fillna('blanks')\n",
    "master_frame.loc[:,'country_code']=master_frame['country_code'].fillna('blanks')\n",
    "master_frame.loc[:,'region']=master_frame['region'].fillna('blanks')\n",
    "master_frame.loc[:,'city']=master_frame['city'].fillna('blanks')\n",
    "master_frame.loc[:,'homepage_url']=master_frame['homepage_url'].fillna('blanks')\n",
    "\n",
    "master_frame.head()"
   ]
  },
  {
   "cell_type": "code",
   "execution_count": 291,
   "metadata": {},
   "outputs": [],
   "source": [
    "#Filtering the data related to the four funding types \n",
    "funding_round_type_filter=master_frame[master_frame['funding_round_type'].isin([\"seed\",\"angel\",\"venture\",\"private_equity\"])]\n",
    "funding_round_type_filter.head()\n",
    "\n",
    "#Grouping the data for the four funding types to find the most representative investment type\n",
    "funding_amount=funding_round_type_filter.groupby('funding_round_type')\n",
    "expo=funding_amount.describe()\n",
    "expo.to_excel(\"output.xlsx\")"
   ]
  },
  {
   "cell_type": "code",
   "execution_count": 292,
   "metadata": {},
   "outputs": [
    {
     "data": {
      "text/plain": [
       "Text(0.5, 1.0, 'Total investments for FT')"
      ]
     },
     "execution_count": 292,
     "metadata": {},
     "output_type": "execute_result"
    },
    {
     "data": {
      "image/png": "[encoded data removed]",
      "text/plain": [
       "<Figure size 432x288 with 1 Axes>"
      ]
     },
     "metadata": {},
     "output_type": "display_data"
    },
    {
     "data": {
      "image/png": "[encoded data removed]",
      "text/plain": [
       "<Figure size 432x288 with 1 Axes>"
      ]
     },
     "metadata": {},
     "output_type": "display_data"
    }
   ],
   "source": [
    "#img=funding_round_type_plot.plot.barh().get_figure()\n",
    "#img2=funding_round_type_sum_plot.plot.barh().get_figure()\n",
    "\n",
    "import seaborn as sns\n",
    "sns.set_style(\"darkgrid\")\n",
    "\n",
    "#subplot 1: statistic=mean\n",
    "plt.figure(1)\n",
    "plt.subplot(1, 1, 1)\n",
    "sns.barplot(x='raised_amount_usd', y='funding_round_type', data=funding_round_type_filter, estimator=np.count_nonzero, )\n",
    "plt.title(\"Investment count for FT\")\n",
    "\n",
    "#subplot 2: statistic=median\n",
    "plt.figure(2)\n",
    "plt.subplot(1, 1, 1)\n",
    "sns.barplot(x='raised_amount_usd', y='funding_round_type', data=funding_round_type_filter, estimator=np.mean, )\n",
    "plt.title(\"Total investments for FT\")\n"
   ]
  },
  {
   "cell_type": "code",
   "execution_count": 293,
   "metadata": {},
   "outputs": [
    {
     "name": "stdout",
     "output_type": "stream",
     "text": [
      "                    raised_amount_usd\n",
      "funding_round_type                   \n",
      "private_equity           7.330859e+07\n",
      "venture                  1.174895e+07\n",
      "angel                    9.586945e+05\n",
      "seed                     7.197796e+05\n",
      "                    raised_amount_usd\n",
      "funding_round_type                   \n",
      "venture                         50228\n",
      "seed                            23602\n",
      "angel                            4860\n",
      "private_equity                   1936\n"
     ]
    }
   ],
   "source": [
    "#Venture is the most suitable investment inferred from the above result \n",
    "#as the number of investments are more and also it fits in the range of 5-15 million.\n",
    "\n",
    "#Grouping data for plotting the above four FT to represent venture as the suitable FT \n",
    "#Total number of investment\n",
    "funding_round_type_sum_plot=funding_round_type_filter.pivot_table(values = 'raised_amount_usd', \n",
    "                      index = 'funding_round_type', \n",
    "                      #columns = 'funding_round_type', \n",
    "                      aggfunc = ('mean')).sort_values('raised_amount_usd', ascending=False)\n",
    "\n",
    "#Average investment\n",
    "funding_round_type_plot=funding_round_type_filter.pivot_table(values = 'raised_amount_usd', \n",
    "                      index = 'funding_round_type', \n",
    "                      #columns = 'funding_round_type', \n",
    "                      aggfunc = ('count')).sort_values('raised_amount_usd', ascending=False)\n",
    "\n",
    "\n",
    "print(funding_round_type_sum_plot)\n",
    "print(funding_round_type_plot)"
   ]
  },
  {
   "cell_type": "code",
   "execution_count": 294,
   "metadata": {},
   "outputs": [
    {
     "data": {
      "text/html": [
       "<div>\n",
       "<style scoped>\n",
       "    .dataframe tbody tr th:only-of-type {\n",
       "        vertical-align: middle;\n",
       "    }\n",
       "\n",
       "    .dataframe tbody tr th {\n",
       "        vertical-align: top;\n",
       "    }\n",
       "\n",
       "    .dataframe thead th {\n",
       "        text-align: right;\n",
       "    }\n",
       "</style>\n",
       "<table border=\"1\" class=\"dataframe\">\n",
       "  <thead>\n",
       "    <tr style=\"text-align: right;\">\n",
       "      <th></th>\n",
       "      <th>company_permalink</th>\n",
       "      <th>funding_round_permalink</th>\n",
       "      <th>funding_round_type</th>\n",
       "      <th>funded_at</th>\n",
       "      <th>raised_amount_usd</th>\n",
       "      <th>permalink</th>\n",
       "      <th>name</th>\n",
       "      <th>homepage_url</th>\n",
       "      <th>category_list</th>\n",
       "      <th>status</th>\n",
       "      <th>country_code</th>\n",
       "      <th>state_code</th>\n",
       "      <th>region</th>\n",
       "      <th>city</th>\n",
       "      <th>founded_at</th>\n",
       "    </tr>\n",
       "  </thead>\n",
       "  <tbody>\n",
       "    <tr>\n",
       "      <th>0</th>\n",
       "      <td>/organization/-fame</td>\n",
       "      <td>/funding-round/9a01d05418af9f794eebff7ace91f638</td>\n",
       "      <td>venture</td>\n",
       "      <td>05-01-2015</td>\n",
       "      <td>10000000.0</td>\n",
       "      <td>/organization/-fame</td>\n",
       "      <td>#fame</td>\n",
       "      <td>http://livfame.com</td>\n",
       "      <td>Media</td>\n",
       "      <td>operating</td>\n",
       "      <td>IND</td>\n",
       "      <td>16</td>\n",
       "      <td>Mumbai</td>\n",
       "      <td>Mumbai</td>\n",
       "      <td>00-00-0000</td>\n",
       "    </tr>\n",
       "    <tr>\n",
       "      <th>2</th>\n",
       "      <td>/organization/-qounter</td>\n",
       "      <td>/funding-round/b44fbb94153f6cdef13083530bb48030</td>\n",
       "      <td>seed</td>\n",
       "      <td>01-03-2014</td>\n",
       "      <td>700000.0</td>\n",
       "      <td>/organization/-qounter</td>\n",
       "      <td>:Qounter</td>\n",
       "      <td>http://www.qounter.com</td>\n",
       "      <td>Application Platforms|Real Time|Social Network...</td>\n",
       "      <td>operating</td>\n",
       "      <td>USA</td>\n",
       "      <td>DE</td>\n",
       "      <td>DE - Other</td>\n",
       "      <td>Delaware City</td>\n",
       "      <td>04-09-2014</td>\n",
       "    </tr>\n",
       "    <tr>\n",
       "      <th>3</th>\n",
       "      <td>/organization/-the-one-of-them-inc-</td>\n",
       "      <td>/funding-round/650b8f704416801069bb178a1418776b</td>\n",
       "      <td>venture</td>\n",
       "      <td>30-01-2014</td>\n",
       "      <td>3406878.0</td>\n",
       "      <td>/organization/-the-one-of-them-inc-</td>\n",
       "      <td>(THE) ONE of THEM,Inc.</td>\n",
       "      <td>http://oneofthem.jp</td>\n",
       "      <td>Apps|Games|Mobile</td>\n",
       "      <td>operating</td>\n",
       "      <td>blanks</td>\n",
       "      <td>blanks</td>\n",
       "      <td>blanks</td>\n",
       "      <td>blanks</td>\n",
       "      <td>00-00-0000</td>\n",
       "    </tr>\n",
       "    <tr>\n",
       "      <th>4</th>\n",
       "      <td>/organization/0-6-com</td>\n",
       "      <td>/funding-round/5727accaeaa57461bd22a9bdd945382d</td>\n",
       "      <td>venture</td>\n",
       "      <td>19-03-2008</td>\n",
       "      <td>2000000.0</td>\n",
       "      <td>/organization/0-6-com</td>\n",
       "      <td>0-6.com</td>\n",
       "      <td>http://www.0-6.com</td>\n",
       "      <td>Curated Web</td>\n",
       "      <td>operating</td>\n",
       "      <td>CHN</td>\n",
       "      <td>22</td>\n",
       "      <td>Beijing</td>\n",
       "      <td>Beijing</td>\n",
       "      <td>01-01-2007</td>\n",
       "    </tr>\n",
       "    <tr>\n",
       "      <th>7</th>\n",
       "      <td>/organization/0ndine-biomedical-inc</td>\n",
       "      <td>/funding-round/2b9d3ac293d5cdccbecff5c8cb0f327d</td>\n",
       "      <td>seed</td>\n",
       "      <td>11-09-2009</td>\n",
       "      <td>43360.0</td>\n",
       "      <td>/organization/0ndine-biomedical-inc</td>\n",
       "      <td>Ondine Biomedical Inc.</td>\n",
       "      <td>http://ondinebio.com</td>\n",
       "      <td>Biotechnology</td>\n",
       "      <td>operating</td>\n",
       "      <td>CAN</td>\n",
       "      <td>BC</td>\n",
       "      <td>Vancouver</td>\n",
       "      <td>Vancouver</td>\n",
       "      <td>01-01-1997</td>\n",
       "    </tr>\n",
       "  </tbody>\n",
       "</table>\n",
       "</div>"
      ],
      "text/plain": [
       "                     company_permalink  \\\n",
       "0                  /organization/-fame   \n",
       "2               /organization/-qounter   \n",
       "3  /organization/-the-one-of-them-inc-   \n",
       "4                /organization/0-6-com   \n",
       "7  /organization/0ndine-biomedical-inc   \n",
       "\n",
       "                           funding_round_permalink funding_round_type  \\\n",
       "0  /funding-round/9a01d05418af9f794eebff7ace91f638            venture   \n",
       "2  /funding-round/b44fbb94153f6cdef13083530bb48030               seed   \n",
       "3  /funding-round/650b8f704416801069bb178a1418776b            venture   \n",
       "4  /funding-round/5727accaeaa57461bd22a9bdd945382d            venture   \n",
       "7  /funding-round/2b9d3ac293d5cdccbecff5c8cb0f327d               seed   \n",
       "\n",
       "    funded_at  raised_amount_usd                            permalink  \\\n",
       "0  05-01-2015         10000000.0                  /organization/-fame   \n",
       "2  01-03-2014           700000.0               /organization/-qounter   \n",
       "3  30-01-2014          3406878.0  /organization/-the-one-of-them-inc-   \n",
       "4  19-03-2008          2000000.0                /organization/0-6-com   \n",
       "7  11-09-2009            43360.0  /organization/0ndine-biomedical-inc   \n",
       "\n",
       "                     name            homepage_url  \\\n",
       "0                   #fame      http://livfame.com   \n",
       "2                :Qounter  http://www.qounter.com   \n",
       "3  (THE) ONE of THEM,Inc.     http://oneofthem.jp   \n",
       "4                 0-6.com      http://www.0-6.com   \n",
       "7  Ondine Biomedical Inc.    http://ondinebio.com   \n",
       "\n",
       "                                       category_list     status country_code  \\\n",
       "0                                              Media  operating          IND   \n",
       "2  Application Platforms|Real Time|Social Network...  operating          USA   \n",
       "3                                  Apps|Games|Mobile  operating       blanks   \n",
       "4                                        Curated Web  operating          CHN   \n",
       "7                                      Biotechnology  operating          CAN   \n",
       "\n",
       "  state_code      region           city  founded_at  \n",
       "0         16      Mumbai         Mumbai  00-00-0000  \n",
       "2         DE  DE - Other  Delaware City  04-09-2014  \n",
       "3     blanks      blanks         blanks  00-00-0000  \n",
       "4         22     Beijing        Beijing  01-01-2007  \n",
       "7         BC   Vancouver      Vancouver  01-01-1997  "
      ]
     },
     "execution_count": 294,
     "metadata": {},
     "output_type": "execute_result"
    }
   ],
   "source": [
    "funding_round_type_filter.head()"
   ]
  },
  {
   "cell_type": "code",
   "execution_count": 295,
   "metadata": {},
   "outputs": [
    {
     "data": {
      "text/html": [
       "<div>\n",
       "<style scoped>\n",
       "    .dataframe tbody tr th:only-of-type {\n",
       "        vertical-align: middle;\n",
       "    }\n",
       "\n",
       "    .dataframe tbody tr th {\n",
       "        vertical-align: top;\n",
       "    }\n",
       "\n",
       "    .dataframe thead th {\n",
       "        text-align: right;\n",
       "    }\n",
       "</style>\n",
       "<table border=\"1\" class=\"dataframe\">\n",
       "  <thead>\n",
       "    <tr style=\"text-align: right;\">\n",
       "      <th></th>\n",
       "      <th>company_permalink</th>\n",
       "      <th>funding_round_permalink</th>\n",
       "      <th>funding_round_type</th>\n",
       "      <th>funded_at</th>\n",
       "      <th>raised_amount_usd</th>\n",
       "      <th>permalink</th>\n",
       "      <th>name</th>\n",
       "      <th>homepage_url</th>\n",
       "      <th>category_list</th>\n",
       "      <th>status</th>\n",
       "      <th>country_code</th>\n",
       "      <th>state_code</th>\n",
       "      <th>region</th>\n",
       "      <th>city</th>\n",
       "      <th>founded_at</th>\n",
       "    </tr>\n",
       "  </thead>\n",
       "  <tbody>\n",
       "    <tr>\n",
       "      <th>0</th>\n",
       "      <td>/organization/-fame</td>\n",
       "      <td>/funding-round/9a01d05418af9f794eebff7ace91f638</td>\n",
       "      <td>venture</td>\n",
       "      <td>05-01-2015</td>\n",
       "      <td>10000000.0</td>\n",
       "      <td>/organization/-fame</td>\n",
       "      <td>#fame</td>\n",
       "      <td>http://livfame.com</td>\n",
       "      <td>Media</td>\n",
       "      <td>operating</td>\n",
       "      <td>IND</td>\n",
       "      <td>16</td>\n",
       "      <td>Mumbai</td>\n",
       "      <td>Mumbai</td>\n",
       "      <td>00-00-0000</td>\n",
       "    </tr>\n",
       "    <tr>\n",
       "      <th>3</th>\n",
       "      <td>/organization/-the-one-of-them-inc-</td>\n",
       "      <td>/funding-round/650b8f704416801069bb178a1418776b</td>\n",
       "      <td>venture</td>\n",
       "      <td>30-01-2014</td>\n",
       "      <td>3406878.0</td>\n",
       "      <td>/organization/-the-one-of-them-inc-</td>\n",
       "      <td>(THE) ONE of THEM,Inc.</td>\n",
       "      <td>http://oneofthem.jp</td>\n",
       "      <td>Apps|Games|Mobile</td>\n",
       "      <td>operating</td>\n",
       "      <td>blanks</td>\n",
       "      <td>blanks</td>\n",
       "      <td>blanks</td>\n",
       "      <td>blanks</td>\n",
       "      <td>00-00-0000</td>\n",
       "    </tr>\n",
       "    <tr>\n",
       "      <th>4</th>\n",
       "      <td>/organization/0-6-com</td>\n",
       "      <td>/funding-round/5727accaeaa57461bd22a9bdd945382d</td>\n",
       "      <td>venture</td>\n",
       "      <td>19-03-2008</td>\n",
       "      <td>2000000.0</td>\n",
       "      <td>/organization/0-6-com</td>\n",
       "      <td>0-6.com</td>\n",
       "      <td>http://www.0-6.com</td>\n",
       "      <td>Curated Web</td>\n",
       "      <td>operating</td>\n",
       "      <td>CHN</td>\n",
       "      <td>22</td>\n",
       "      <td>Beijing</td>\n",
       "      <td>Beijing</td>\n",
       "      <td>01-01-2007</td>\n",
       "    </tr>\n",
       "    <tr>\n",
       "      <th>8</th>\n",
       "      <td>/organization/0ndine-biomedical-inc</td>\n",
       "      <td>/funding-round/954b9499724b946ad8c396a57a5f3b72</td>\n",
       "      <td>venture</td>\n",
       "      <td>21-12-2009</td>\n",
       "      <td>719491.0</td>\n",
       "      <td>/organization/0ndine-biomedical-inc</td>\n",
       "      <td>Ondine Biomedical Inc.</td>\n",
       "      <td>http://ondinebio.com</td>\n",
       "      <td>Biotechnology</td>\n",
       "      <td>operating</td>\n",
       "      <td>CAN</td>\n",
       "      <td>BC</td>\n",
       "      <td>Vancouver</td>\n",
       "      <td>Vancouver</td>\n",
       "      <td>01-01-1997</td>\n",
       "    </tr>\n",
       "    <tr>\n",
       "      <th>10</th>\n",
       "      <td>/organization/0xdata</td>\n",
       "      <td>/funding-round/3bb2ee4a2d89251a10aaa735b1180e44</td>\n",
       "      <td>venture</td>\n",
       "      <td>09-11-2015</td>\n",
       "      <td>20000000.0</td>\n",
       "      <td>/organization/0xdata</td>\n",
       "      <td>H2O.ai</td>\n",
       "      <td>http://h2o.ai/</td>\n",
       "      <td>Analytics</td>\n",
       "      <td>operating</td>\n",
       "      <td>USA</td>\n",
       "      <td>CA</td>\n",
       "      <td>SF Bay Area</td>\n",
       "      <td>Mountain View</td>\n",
       "      <td>01-01-2011</td>\n",
       "    </tr>\n",
       "  </tbody>\n",
       "</table>\n",
       "</div>"
      ],
      "text/plain": [
       "                      company_permalink  \\\n",
       "0                   /organization/-fame   \n",
       "3   /organization/-the-one-of-them-inc-   \n",
       "4                 /organization/0-6-com   \n",
       "8   /organization/0ndine-biomedical-inc   \n",
       "10                 /organization/0xdata   \n",
       "\n",
       "                            funding_round_permalink funding_round_type  \\\n",
       "0   /funding-round/9a01d05418af9f794eebff7ace91f638            venture   \n",
       "3   /funding-round/650b8f704416801069bb178a1418776b            venture   \n",
       "4   /funding-round/5727accaeaa57461bd22a9bdd945382d            venture   \n",
       "8   /funding-round/954b9499724b946ad8c396a57a5f3b72            venture   \n",
       "10  /funding-round/3bb2ee4a2d89251a10aaa735b1180e44            venture   \n",
       "\n",
       "     funded_at  raised_amount_usd                            permalink  \\\n",
       "0   05-01-2015         10000000.0                  /organization/-fame   \n",
       "3   30-01-2014          3406878.0  /organization/-the-one-of-them-inc-   \n",
       "4   19-03-2008          2000000.0                /organization/0-6-com   \n",
       "8   21-12-2009           719491.0  /organization/0ndine-biomedical-inc   \n",
       "10  09-11-2015         20000000.0                 /organization/0xdata   \n",
       "\n",
       "                      name          homepage_url      category_list  \\\n",
       "0                    #fame    http://livfame.com              Media   \n",
       "3   (THE) ONE of THEM,Inc.   http://oneofthem.jp  Apps|Games|Mobile   \n",
       "4                  0-6.com    http://www.0-6.com        Curated Web   \n",
       "8   Ondine Biomedical Inc.  http://ondinebio.com      Biotechnology   \n",
       "10                  H2O.ai        http://h2o.ai/          Analytics   \n",
       "\n",
       "       status country_code state_code       region           city  founded_at  \n",
       "0   operating          IND         16       Mumbai         Mumbai  00-00-0000  \n",
       "3   operating       blanks     blanks       blanks         blanks  00-00-0000  \n",
       "4   operating          CHN         22      Beijing        Beijing  01-01-2007  \n",
       "8   operating          CAN         BC    Vancouver      Vancouver  01-01-1997  \n",
       "10  operating          USA         CA  SF Bay Area  Mountain View  01-01-2011  "
      ]
     },
     "execution_count": 295,
     "metadata": {},
     "output_type": "execute_result"
    }
   ],
   "source": [
    "#Further filtering data to contain only data related to venture FT\n",
    "master_frame_venture=funding_round_type_filter[(funding_round_type_filter.funding_round_type =='venture')]\n",
    "master_frame_venture.head()"
   ]
  },
  {
   "cell_type": "code",
   "execution_count": 296,
   "metadata": {},
   "outputs": [
    {
     "data": {
      "text/plain": [
       "count    5.022800e+04\n",
       "mean     1.174895e+07\n",
       "std      8.635207e+07\n",
       "min      0.000000e+00\n",
       "25%      1.600902e+06\n",
       "50%      5.000000e+06\n",
       "75%      1.200000e+07\n",
       "max      1.760000e+10\n",
       "Name: raised_amount_usd, dtype: float64"
      ]
     },
     "execution_count": 296,
     "metadata": {},
     "output_type": "execute_result"
    }
   ],
   "source": [
    "#Grouping master_frame data on funding_round_type column to get the mean/avg values for investment\n",
    "master_frame_venture.raised_amount_usd.describe()"
   ]
  },
  {
   "cell_type": "code",
   "execution_count": 297,
   "metadata": {},
   "outputs": [
    {
     "data": {
      "text/html": [
       "<div>\n",
       "<style scoped>\n",
       "    .dataframe tbody tr th:only-of-type {\n",
       "        vertical-align: middle;\n",
       "    }\n",
       "\n",
       "    .dataframe tbody tr th {\n",
       "        vertical-align: top;\n",
       "    }\n",
       "\n",
       "    .dataframe thead th {\n",
       "        text-align: right;\n",
       "    }\n",
       "</style>\n",
       "<table border=\"1\" class=\"dataframe\">\n",
       "  <thead>\n",
       "    <tr style=\"text-align: right;\">\n",
       "      <th></th>\n",
       "      <th>raised_amount_usd</th>\n",
       "    </tr>\n",
       "    <tr>\n",
       "      <th>country_code</th>\n",
       "      <th></th>\n",
       "    </tr>\n",
       "  </thead>\n",
       "  <tbody>\n",
       "    <tr>\n",
       "      <th>USA</th>\n",
       "      <td>5.112685e+11</td>\n",
       "    </tr>\n",
       "    <tr>\n",
       "      <th>CHN</th>\n",
       "      <td>6.149742e+10</td>\n",
       "    </tr>\n",
       "    <tr>\n",
       "      <th>blanks</th>\n",
       "      <td>3.381666e+10</td>\n",
       "    </tr>\n",
       "    <tr>\n",
       "      <th>GBR</th>\n",
       "      <td>2.716755e+10</td>\n",
       "    </tr>\n",
       "    <tr>\n",
       "      <th>IND</th>\n",
       "      <td>2.133162e+10</td>\n",
       "    </tr>\n",
       "    <tr>\n",
       "      <th>CAN</th>\n",
       "      <td>1.327111e+10</td>\n",
       "    </tr>\n",
       "    <tr>\n",
       "      <th>DEU</th>\n",
       "      <td>8.627355e+09</td>\n",
       "    </tr>\n",
       "    <tr>\n",
       "      <th>ISR</th>\n",
       "      <td>8.156387e+09</td>\n",
       "    </tr>\n",
       "    <tr>\n",
       "      <th>FRA</th>\n",
       "      <td>8.114600e+09</td>\n",
       "    </tr>\n",
       "  </tbody>\n",
       "</table>\n",
       "</div>"
      ],
      "text/plain": [
       "              raised_amount_usd\n",
       "country_code                   \n",
       "USA                5.112685e+11\n",
       "CHN                6.149742e+10\n",
       "blanks             3.381666e+10\n",
       "GBR                2.716755e+10\n",
       "IND                2.133162e+10\n",
       "CAN                1.327111e+10\n",
       "DEU                8.627355e+09\n",
       "ISR                8.156387e+09\n",
       "FRA                8.114600e+09"
      ]
     },
     "execution_count": 297,
     "metadata": {},
     "output_type": "execute_result"
    }
   ],
   "source": [
    "#Top 9 countries with total funding ordered by the highest funding across all sector\n",
    "top9_allsector=funding_round_type_filter.pivot_table(values = 'raised_amount_usd', \n",
    "                      index = 'country_code', \n",
    "                      #columns = 'funding_round_type', \n",
    "                      aggfunc = 'sum').sort_values('raised_amount_usd', ascending=False).head(9)\n",
    "top9_allsector"
   ]
  },
  {
   "cell_type": "code",
   "execution_count": 298,
   "metadata": {},
   "outputs": [
    {
     "name": "stdout",
     "output_type": "stream",
     "text": [
      "              raised_amount_usd\n",
      "country_code                   \n",
      "USA                4.225108e+11\n",
      "CHN                3.983542e+10\n",
      "blanks             2.550611e+10\n",
      "GBR                2.024563e+10\n",
      "IND                1.439186e+10\n",
      "CAN                9.583332e+09\n",
      "FRA                7.259537e+09\n",
      "ISR                6.907515e+09\n",
      "DEU                6.346960e+09\n"
     ]
    },
    {
     "data": {
      "text/plain": [
       "Text(0.5, 1.0, 'Top 9 countries Vs Venture investments')"
      ]
     },
     "execution_count": 298,
     "metadata": {},
     "output_type": "execute_result"
    },
    {
     "data": {
      "image/png": "[encoded data removed]",
      "text/plain": [
       "<Figure size 432x288 with 1 Axes>"
      ]
     },
     "metadata": {},
     "output_type": "display_data"
    }
   ],
   "source": [
    "#Top 9 countries with total funding ordered by the highest funding for venture investment type\n",
    "top9=master_frame_venture.pivot_table(values = 'raised_amount_usd', \n",
    "                      index = 'country_code', \n",
    "                      #columns = 'funding_round_type', \n",
    "                      aggfunc = 'sum').sort_values('raised_amount_usd', ascending=False).head(9)\n",
    "print(top9)\n",
    "top9.to_excel(\"output.xlsx\")\n",
    "\n",
    "#Bar plot to show the top 9 countries Vs total investment for venture investment\n",
    "sns.barplot(x=top9.index, y=\"raised_amount_usd\", data=top9)\n",
    "plt.title(\"Top 9 countries Vs Venture investments\")\n",
    "#plt.setp(ax.patches, linewidth=0)\n",
    "#img=top9.plot.bar().get_figure()\n",
    "#plt.xlim(1e4,20e6)\n"
   ]
  },
  {
   "cell_type": "code",
   "execution_count": 299,
   "metadata": {},
   "outputs": [
    {
     "data": {
      "text/plain": [
       "company_permalink          0\n",
       "funding_round_permalink    0\n",
       "funding_round_type         0\n",
       "funded_at                  0\n",
       "raised_amount_usd          0\n",
       "permalink                  0\n",
       "name                       0\n",
       "homepage_url               0\n",
       "category_list              0\n",
       "status                     0\n",
       "country_code               0\n",
       "state_code                 0\n",
       "region                     0\n",
       "city                       0\n",
       "founded_at                 0\n",
       "dtype: int64"
      ]
     },
     "execution_count": 299,
     "metadata": {},
     "output_type": "execute_result"
    }
   ],
   "source": [
    "master_frame_venture.isnull().sum()"
   ]
  },
  {
   "cell_type": "code",
   "execution_count": 300,
   "metadata": {},
   "outputs": [],
   "source": [
    "#importing Mapping csv to mapping dataframe\n",
    "import pandas as pd\n",
    "mapping = pd.read_csv(r\"C:\\Users\\Priyanka\\Downloads\\Anil\\Machine Learning and NLP Python documents\\Statistics and Machine Learning\\Module4_Investment_assignment\\\\mapping.csv\", encoding = \"ISO-8859-1\")\n",
    "mapping.head()\n",
    "\n",
    "#category_list column observed to have 0's in string\n",
    "#Cleaning this data replacing '0' with 'na'\n",
    "mapping['category_list']=mapping['category_list'].str.replace('0','na')"
   ]
  },
  {
   "cell_type": "code",
   "execution_count": 301,
   "metadata": {},
   "outputs": [],
   "source": [
    "#https://stackoverflow.com/questions/34376053/pandas-dataframe-stack-multiple-column-values-into-single-column\n",
    "#Creating dataframe with category list and sector value\n",
    "columns=['Automotive & Sports',\n",
    " 'Blanks',\n",
    " 'Cleantech / Semiconductors',\n",
    " 'Entertainment',\n",
    " 'Health',\n",
    " 'Manufacturing',\n",
    " 'News, Search and Messaging',\n",
    " 'Others',\n",
    " 'Social, Finance, Analytics, Advertising']\n",
    "mapping_sector=pd.melt(mapping, \n",
    "                  id_vars='category_list',var_name=['sector'],value_vars=columns)\n",
    "                   \n",
    "mapping_sector.head()\n",
    "#Filtering the rows with value 1 into a new dataframe\n",
    "final_mapping=mapping_sector[mapping_sector.value==1]"
   ]
  },
  {
   "cell_type": "code",
   "execution_count": 302,
   "metadata": {},
   "outputs": [
    {
     "name": "stderr",
     "output_type": "stream",
     "text": [
      "C:\\Users\\Priyanka\\Anaconda3\\lib\\site-packages\\ipykernel_launcher.py:3: SettingWithCopyWarning: \n",
      "A value is trying to be set on a copy of a slice from a DataFrame.\n",
      "Try using .loc[row_indexer,col_indexer] = value instead\n",
      "\n",
      "See the caveats in the documentation: http://pandas.pydata.org/pandas-docs/stable/indexing.html#indexing-view-versus-copy\n",
      "  This is separate from the ipykernel package so we can avoid doing imports until\n"
     ]
    },
    {
     "data": {
      "text/plain": [
       "0             Media\n",
       "3              Apps\n",
       "4       Curated Web\n",
       "8     Biotechnology\n",
       "10        Analytics\n",
       "Name: category_list, dtype: object"
      ]
     },
     "execution_count": 302,
     "metadata": {},
     "output_type": "execute_result"
    }
   ],
   "source": [
    "#Extract the primary sector of each category list from the category_list column in master_frame_venture \n",
    "#and replacing it with the first value after split\n",
    "master_frame_venture['category_list']=master_frame_venture.category_list.str.split('|').str[0]\n",
    "\n",
    "#master_frame_venture['category_list'].apply(lambda x: x.split('|')[0])\n",
    "primary_sector=master_frame_venture.category_list\n",
    "primary_sector.head()"
   ]
  },
  {
   "cell_type": "code",
   "execution_count": 303,
   "metadata": {},
   "outputs": [],
   "source": [
    "#Merging master data frame with mapping data frame on common column category_list\n",
    "master_sector=pd.merge(master_frame_venture,final_mapping, how='inner', on=['category_list'])"
   ]
  },
  {
   "cell_type": "code",
   "execution_count": 304,
   "metadata": {},
   "outputs": [
    {
     "data": {
      "text/plain": [
       "company_permalink          0\n",
       "funding_round_permalink    0\n",
       "funding_round_type         0\n",
       "funded_at                  0\n",
       "raised_amount_usd          0\n",
       "permalink                  0\n",
       "name                       0\n",
       "homepage_url               0\n",
       "category_list              0\n",
       "status                     0\n",
       "country_code               0\n",
       "state_code                 0\n",
       "region                     0\n",
       "city                       0\n",
       "founded_at                 0\n",
       "sector                     0\n",
       "value                      0\n",
       "dtype: int64"
      ]
     },
     "execution_count": 304,
     "metadata": {},
     "output_type": "execute_result"
    }
   ],
   "source": [
    "#Checking the master_sector for null values\n",
    "master_sector.isnull().sum()\n"
   ]
  },
  {
   "cell_type": "code",
   "execution_count": 305,
   "metadata": {},
   "outputs": [],
   "source": [
    "#Top 3 Countries with venture investment dataframes on operating sector status\n",
    "D=master_sector[(master_sector.country_code.isin(['USA','GBR','IND']))]\n",
    "D1 = master_sector[(master_sector.country_code == 'USA')]\n",
    "D2 = master_sector[(master_sector.country_code == 'GBR')]\n",
    "D3 = master_sector[(master_sector.country_code == 'IND')]"
   ]
  },
  {
   "cell_type": "code",
   "execution_count": 306,
   "metadata": {
    "scrolled": false
   },
   "outputs": [
    {
     "data": {
      "text/html": [
       "<div>\n",
       "<style scoped>\n",
       "    .dataframe tbody tr th:only-of-type {\n",
       "        vertical-align: middle;\n",
       "    }\n",
       "\n",
       "    .dataframe tbody tr th {\n",
       "        vertical-align: top;\n",
       "    }\n",
       "\n",
       "    .dataframe thead tr th {\n",
       "        text-align: left;\n",
       "    }\n",
       "\n",
       "    .dataframe thead tr:last-of-type th {\n",
       "        text-align: right;\n",
       "    }\n",
       "</style>\n",
       "<table border=\"1\" class=\"dataframe\">\n",
       "  <thead>\n",
       "    <tr>\n",
       "      <th></th>\n",
       "      <th colspan=\"8\" halign=\"left\">raised_amount_usd</th>\n",
       "      <th colspan=\"8\" halign=\"left\">value</th>\n",
       "    </tr>\n",
       "    <tr>\n",
       "      <th></th>\n",
       "      <th>count</th>\n",
       "      <th>mean</th>\n",
       "      <th>std</th>\n",
       "      <th>min</th>\n",
       "      <th>25%</th>\n",
       "      <th>50%</th>\n",
       "      <th>75%</th>\n",
       "      <th>max</th>\n",
       "      <th>count</th>\n",
       "      <th>mean</th>\n",
       "      <th>std</th>\n",
       "      <th>min</th>\n",
       "      <th>25%</th>\n",
       "      <th>50%</th>\n",
       "      <th>75%</th>\n",
       "      <th>max</th>\n",
       "    </tr>\n",
       "    <tr>\n",
       "      <th>sector</th>\n",
       "      <th></th>\n",
       "      <th></th>\n",
       "      <th></th>\n",
       "      <th></th>\n",
       "      <th></th>\n",
       "      <th></th>\n",
       "      <th></th>\n",
       "      <th></th>\n",
       "      <th></th>\n",
       "      <th></th>\n",
       "      <th></th>\n",
       "      <th></th>\n",
       "      <th></th>\n",
       "      <th></th>\n",
       "      <th></th>\n",
       "      <th></th>\n",
       "    </tr>\n",
       "  </thead>\n",
       "  <tbody>\n",
       "    <tr>\n",
       "      <th>Automotive &amp; Sports</th>\n",
       "      <td>505.0</td>\n",
       "      <td>2.303399e+07</td>\n",
       "      <td>1.111625e+08</td>\n",
       "      <td>29.0</td>\n",
       "      <td>1400000.0</td>\n",
       "      <td>5000000.0</td>\n",
       "      <td>12311441.00</td>\n",
       "      <td>1.200000e+09</td>\n",
       "      <td>505.0</td>\n",
       "      <td>1.0</td>\n",
       "      <td>0.0</td>\n",
       "      <td>1.0</td>\n",
       "      <td>1.0</td>\n",
       "      <td>1.0</td>\n",
       "      <td>1.0</td>\n",
       "      <td>1.0</td>\n",
       "    </tr>\n",
       "    <tr>\n",
       "      <th>Cleantech / Semiconductors</th>\n",
       "      <td>7857.0</td>\n",
       "      <td>1.512471e+07</td>\n",
       "      <td>1.999035e+08</td>\n",
       "      <td>0.0</td>\n",
       "      <td>1600000.0</td>\n",
       "      <td>5978276.0</td>\n",
       "      <td>15700000.00</td>\n",
       "      <td>1.760000e+10</td>\n",
       "      <td>7857.0</td>\n",
       "      <td>1.0</td>\n",
       "      <td>0.0</td>\n",
       "      <td>1.0</td>\n",
       "      <td>1.0</td>\n",
       "      <td>1.0</td>\n",
       "      <td>1.0</td>\n",
       "      <td>1.0</td>\n",
       "    </tr>\n",
       "    <tr>\n",
       "      <th>Entertainment</th>\n",
       "      <td>1794.0</td>\n",
       "      <td>9.484148e+06</td>\n",
       "      <td>2.009577e+07</td>\n",
       "      <td>0.0</td>\n",
       "      <td>1500000.0</td>\n",
       "      <td>4500000.0</td>\n",
       "      <td>10000000.00</td>\n",
       "      <td>4.750000e+08</td>\n",
       "      <td>1794.0</td>\n",
       "      <td>1.0</td>\n",
       "      <td>0.0</td>\n",
       "      <td>1.0</td>\n",
       "      <td>1.0</td>\n",
       "      <td>1.0</td>\n",
       "      <td>1.0</td>\n",
       "      <td>1.0</td>\n",
       "    </tr>\n",
       "    <tr>\n",
       "      <th>Health</th>\n",
       "      <td>3269.0</td>\n",
       "      <td>9.689525e+06</td>\n",
       "      <td>1.607194e+07</td>\n",
       "      <td>0.0</td>\n",
       "      <td>1100000.0</td>\n",
       "      <td>4099999.0</td>\n",
       "      <td>12000000.00</td>\n",
       "      <td>3.200000e+08</td>\n",
       "      <td>3269.0</td>\n",
       "      <td>1.0</td>\n",
       "      <td>0.0</td>\n",
       "      <td>1.0</td>\n",
       "      <td>1.0</td>\n",
       "      <td>1.0</td>\n",
       "      <td>1.0</td>\n",
       "      <td>1.0</td>\n",
       "    </tr>\n",
       "    <tr>\n",
       "      <th>Manufacturing</th>\n",
       "      <td>2453.0</td>\n",
       "      <td>1.012854e+07</td>\n",
       "      <td>1.754355e+07</td>\n",
       "      <td>1000.0</td>\n",
       "      <td>1360000.0</td>\n",
       "      <td>5000000.0</td>\n",
       "      <td>12200000.00</td>\n",
       "      <td>3.500000e+08</td>\n",
       "      <td>2453.0</td>\n",
       "      <td>1.0</td>\n",
       "      <td>0.0</td>\n",
       "      <td>1.0</td>\n",
       "      <td>1.0</td>\n",
       "      <td>1.0</td>\n",
       "      <td>1.0</td>\n",
       "      <td>1.0</td>\n",
       "    </tr>\n",
       "    <tr>\n",
       "      <th>News, Search and Messaging</th>\n",
       "      <td>4350.0</td>\n",
       "      <td>1.044589e+07</td>\n",
       "      <td>2.489054e+07</td>\n",
       "      <td>750.0</td>\n",
       "      <td>1800000.0</td>\n",
       "      <td>5000000.0</td>\n",
       "      <td>10600000.00</td>\n",
       "      <td>7.390000e+08</td>\n",
       "      <td>4350.0</td>\n",
       "      <td>1.0</td>\n",
       "      <td>0.0</td>\n",
       "      <td>1.0</td>\n",
       "      <td>1.0</td>\n",
       "      <td>1.0</td>\n",
       "      <td>1.0</td>\n",
       "      <td>1.0</td>\n",
       "    </tr>\n",
       "    <tr>\n",
       "      <th>Others</th>\n",
       "      <td>8310.0</td>\n",
       "      <td>9.963517e+06</td>\n",
       "      <td>2.369523e+07</td>\n",
       "      <td>0.0</td>\n",
       "      <td>1500000.0</td>\n",
       "      <td>5000000.0</td>\n",
       "      <td>10971958.25</td>\n",
       "      <td>1.000000e+09</td>\n",
       "      <td>8310.0</td>\n",
       "      <td>1.0</td>\n",
       "      <td>0.0</td>\n",
       "      <td>1.0</td>\n",
       "      <td>1.0</td>\n",
       "      <td>1.0</td>\n",
       "      <td>1.0</td>\n",
       "      <td>1.0</td>\n",
       "    </tr>\n",
       "    <tr>\n",
       "      <th>Social, Finance, Analytics, Advertising</th>\n",
       "      <td>7246.0</td>\n",
       "      <td>1.191435e+07</td>\n",
       "      <td>6.184958e+07</td>\n",
       "      <td>0.0</td>\n",
       "      <td>2000000.0</td>\n",
       "      <td>5246645.5</td>\n",
       "      <td>12000000.00</td>\n",
       "      <td>4.700000e+09</td>\n",
       "      <td>7246.0</td>\n",
       "      <td>1.0</td>\n",
       "      <td>0.0</td>\n",
       "      <td>1.0</td>\n",
       "      <td>1.0</td>\n",
       "      <td>1.0</td>\n",
       "      <td>1.0</td>\n",
       "      <td>1.0</td>\n",
       "    </tr>\n",
       "  </tbody>\n",
       "</table>\n",
       "</div>"
      ],
      "text/plain": [
       "                                        raised_amount_usd                \\\n",
       "                                                    count          mean   \n",
       "sector                                                                    \n",
       "Automotive & Sports                                 505.0  2.303399e+07   \n",
       "Cleantech / Semiconductors                         7857.0  1.512471e+07   \n",
       "Entertainment                                      1794.0  9.484148e+06   \n",
       "Health                                             3269.0  9.689525e+06   \n",
       "Manufacturing                                      2453.0  1.012854e+07   \n",
       "News, Search and Messaging                         4350.0  1.044589e+07   \n",
       "Others                                             8310.0  9.963517e+06   \n",
       "Social, Finance, Analytics, Advertising            7246.0  1.191435e+07   \n",
       "\n",
       "                                                                          \\\n",
       "                                                  std     min        25%   \n",
       "sector                                                                     \n",
       "Automotive & Sports                      1.111625e+08    29.0  1400000.0   \n",
       "Cleantech / Semiconductors               1.999035e+08     0.0  1600000.0   \n",
       "Entertainment                            2.009577e+07     0.0  1500000.0   \n",
       "Health                                   1.607194e+07     0.0  1100000.0   \n",
       "Manufacturing                            1.754355e+07  1000.0  1360000.0   \n",
       "News, Search and Messaging               2.489054e+07   750.0  1800000.0   \n",
       "Others                                   2.369523e+07     0.0  1500000.0   \n",
       "Social, Finance, Analytics, Advertising  6.184958e+07     0.0  2000000.0   \n",
       "\n",
       "                                                                               \\\n",
       "                                               50%          75%           max   \n",
       "sector                                                                          \n",
       "Automotive & Sports                      5000000.0  12311441.00  1.200000e+09   \n",
       "Cleantech / Semiconductors               5978276.0  15700000.00  1.760000e+10   \n",
       "Entertainment                            4500000.0  10000000.00  4.750000e+08   \n",
       "Health                                   4099999.0  12000000.00  3.200000e+08   \n",
       "Manufacturing                            5000000.0  12200000.00  3.500000e+08   \n",
       "News, Search and Messaging               5000000.0  10600000.00  7.390000e+08   \n",
       "Others                                   5000000.0  10971958.25  1.000000e+09   \n",
       "Social, Finance, Analytics, Advertising  5246645.5  12000000.00  4.700000e+09   \n",
       "\n",
       "                                          value                                \\\n",
       "                                          count mean  std  min  25%  50%  75%   \n",
       "sector                                                                          \n",
       "Automotive & Sports                       505.0  1.0  0.0  1.0  1.0  1.0  1.0   \n",
       "Cleantech / Semiconductors               7857.0  1.0  0.0  1.0  1.0  1.0  1.0   \n",
       "Entertainment                            1794.0  1.0  0.0  1.0  1.0  1.0  1.0   \n",
       "Health                                   3269.0  1.0  0.0  1.0  1.0  1.0  1.0   \n",
       "Manufacturing                            2453.0  1.0  0.0  1.0  1.0  1.0  1.0   \n",
       "News, Search and Messaging               4350.0  1.0  0.0  1.0  1.0  1.0  1.0   \n",
       "Others                                   8310.0  1.0  0.0  1.0  1.0  1.0  1.0   \n",
       "Social, Finance, Analytics, Advertising  7246.0  1.0  0.0  1.0  1.0  1.0  1.0   \n",
       "\n",
       "                                              \n",
       "                                         max  \n",
       "sector                                        \n",
       "Automotive & Sports                      1.0  \n",
       "Cleantech / Semiconductors               1.0  \n",
       "Entertainment                            1.0  \n",
       "Health                                   1.0  \n",
       "Manufacturing                            1.0  \n",
       "News, Search and Messaging               1.0  \n",
       "Others                                   1.0  \n",
       "Social, Finance, Analytics, Advertising  1.0  "
      ]
     },
     "execution_count": 306,
     "metadata": {},
     "output_type": "execute_result"
    }
   ],
   "source": [
    "D1_category=D1.groupby('sector')\n",
    "D1_category.describe()"
   ]
  },
  {
   "cell_type": "code",
   "execution_count": 311,
   "metadata": {},
   "outputs": [
    {
     "name": "stdout",
     "output_type": "stream",
     "text": [
      "              raised_amount_usd\n",
      "country_code                   \n",
      "USA                       35784\n",
      "GBR                        2035\n",
      "IND                         819\n",
      "              raised_amount_usd\n",
      "country_code                   \n",
      "USA                4.185698e+11\n",
      "GBR                1.998380e+10\n",
      "IND                1.426151e+10\n"
     ]
    }
   ],
   "source": [
    "# \n",
    "D_count=D.pivot_table(values = 'raised_amount_usd', \n",
    "                      index = 'country_code', \n",
    "                      #columns = 'funding_round_type', \n",
    "                      aggfunc = 'count').sort_values('raised_amount_usd', ascending=False)\n",
    "print(D_count)\n",
    "D_sum=D.pivot_table(values = 'raised_amount_usd', \n",
    "                      index = 'country_code', \n",
    "                      #columns = 'funding_round_type', \n",
    "                      aggfunc = 'sum').sort_values('raised_amount_usd', ascending=False)\n",
    "print(D_sum)\n",
    "#D_sum.to_excel(\"output.xlsx\")\n"
   ]
  },
  {
   "cell_type": "code",
   "execution_count": 308,
   "metadata": {},
   "outputs": [
    {
     "name": "stdout",
     "output_type": "stream",
     "text": [
      "                                         raised_amount_usd\n",
      "sector                                                    \n",
      "Others                                                8310\n",
      "Cleantech / Semiconductors                            7857\n",
      "Social, Finance, Analytics, Advertising               7246\n",
      "                                         raised_amount_usd\n",
      "sector                                                    \n",
      "Others                                                 516\n",
      "Cleantech / Semiconductors                             437\n",
      "Social, Finance, Analytics, Advertising                421\n",
      "                                         raised_amount_usd\n",
      "sector                                                    \n",
      "Others                                                 284\n",
      "Social, Finance, Analytics, Advertising                147\n",
      "News, Search and Messaging                             130\n"
     ]
    }
   ],
   "source": [
    "D1_count_analysis=D1.pivot_table(values = 'raised_amount_usd', \n",
    "                      index = ['sector'],\n",
    "                      #columns = ['sector'],\n",
    "                                 aggfunc='count'\n",
    "                      ).sort_values('raised_amount_usd', ascending=False).head(3)\n",
    "D2_count_analysis=D2.pivot_table(values = 'raised_amount_usd', \n",
    "                      index = ['sector'],\n",
    "                      #columns = ['sector'],\n",
    "                                 aggfunc='count'\n",
    "                      ).sort_values('raised_amount_usd', ascending=False).head(3)\n",
    "D3_count_analysis=D3.pivot_table(values = 'raised_amount_usd', \n",
    "                      index = ['sector'],\n",
    "                      #columns = ['sector'],\n",
    "                                 aggfunc='count'\n",
    "                      ).sort_values('raised_amount_usd', ascending=False).head(3)\n",
    "print(D1_count_analysis)\n",
    "print(D2_count_analysis)\n",
    "print(D3_count_analysis)\n",
    "\n",
    "\n",
    "#D1_count_analysis.to_excel(\"output.xlsx\")\n",
    "#D2_count_analysis.to_excel(\"output.xlsx\")\n",
    "D3_count_analysis.to_excel(\"output.xlsx\")\n",
    "\n"
   ]
  },
  {
   "cell_type": "code",
   "execution_count": 309,
   "metadata": {},
   "outputs": [
    {
     "name": "stdout",
     "output_type": "stream",
     "text": [
      "                         raised_amount_usd\n",
      "name                                      \n",
      "Freescale Semiconductor       1.760000e+10\n",
      "Uber                          5.306000e+09\n",
      "MediaVast                     4.715000e+09\n",
      "            raised_amount_usd\n",
      "name                         \n",
      "SoftViaNet        915000000.0\n",
      "OneWeb            500000000.0\n",
      "Immunocore        320000000.0\n",
      "          raised_amount_usd\n",
      "name                       \n",
      "Flipkart       2.451000e+09\n",
      "Ola            1.176500e+09\n",
      "Quikr          3.460000e+08\n"
     ]
    }
   ],
   "source": [
    "D1_sum_analysis=D1.pivot_table(values = 'raised_amount_usd', \n",
    "                      index = ['name'],\n",
    "                      #columns = ['country_code'],\n",
    "                               aggfunc='sum'\n",
    "                      ).sort_values('raised_amount_usd', ascending=False).head(3)\n",
    "\n",
    "D2_sum_analysis=D2.pivot_table(values = 'raised_amount_usd', \n",
    "                      index = ['name'],\n",
    "                      #columns = ['country_code'],\n",
    "                               aggfunc='sum'\n",
    "                      ).sort_values('raised_amount_usd', ascending=False).head(3)\n",
    "\n",
    "D3_sum_analysis=D3.pivot_table(values = 'raised_amount_usd', \n",
    "                      index = ['name'],\n",
    "                      #columns = ['country_code'],\n",
    "                               aggfunc='sum'\n",
    "                      ).sort_values('raised_amount_usd', ascending=False).head(3)\n",
    "print(D1_sum_analysis)\n",
    "print(D2_sum_analysis)\n",
    "print(D3_sum_analysis)\n"
   ]
  },
  {
   "cell_type": "code",
   "execution_count": 310,
   "metadata": {},
   "outputs": [
    {
     "data": {
      "image/png": "[encoded data removed]",
      "text/plain": [
       "<Figure size 432x288 with 1 Axes>"
      ]
     },
     "metadata": {},
     "output_type": "display_data"
    },
    {
     "data": {
      "image/png": "[encoded data removed]",
      "text/plain": [
       "<Figure size 432x288 with 1 Axes>"
      ]
     },
     "metadata": {},
     "output_type": "display_data"
    },
    {
     "data": {
      "image/png": "[encoded data removed]",
      "text/plain": [
       "<Figure size 432x288 with 1 Axes>"
      ]
     },
     "metadata": {},
     "output_type": "display_data"
    }
   ],
   "source": [
    "import seaborn as sns\n",
    "plt.figure(1)\n",
    "\n",
    "# subplot 1: statistic=mean\n",
    "plt.subplot(1,1, 1)\n",
    "usa=sns.barplot(x=\"raised_amount_usd\", y=D1_count_analysis.index, data=D1_count_analysis)\n",
    "#sns.barplot(x='raised_amount_usd', y='sector', data=D1, estimator=np.count_nonzero, )\n",
    "plt.title(\"USA-No. of investments\")\n",
    "\n",
    "# subplot 2: statistic=median\n",
    "plt.figure(2)\n",
    "plt.subplot(1, 1, 1)\n",
    "gbr=sns.barplot(x=\"raised_amount_usd\", y=D2_count_analysis.index, data=D2_count_analysis)\n",
    "#sns.barplot(x='raised_amount_usd', y='sector', data=D2, estimator=np.count_nonzero)#, order='D2['raised_amount_usd'])\n",
    "plt.title(\"GBR-No. of investments\")\n",
    "\n",
    "# subplot 2: statistic=median\n",
    "plt.figure(3)\n",
    "plt.subplot(1, 1, 1)\n",
    "ind=sns.barplot(x=\"raised_amount_usd\", y=D3_count_analysis.index, data=D3_count_analysis)\n",
    "#sns.barplot(x='raised_amount_usd', y='sector', data=D3, estimator=np.count_nonzero)\n",
    "plt.title(\"IND-No. of investments\")\n",
    "\n",
    "plt.show()"
   ]
  },
  {
   "cell_type": "code",
   "execution_count": null,
   "metadata": {},
   "outputs": [],
   "source": []
  },
  {
   "cell_type": "code",
   "execution_count": null,
   "metadata": {},
   "outputs": [],
   "source": []
  },
  {
   "cell_type": "code",
   "execution_count": null,
   "metadata": {},
   "outputs": [],
   "source": []
  },
  {
   "cell_type": "code",
   "execution_count": null,
   "metadata": {},
   "outputs": [],
   "source": []
  },
  {
   "cell_type": "code",
   "execution_count": null,
   "metadata": {},
   "outputs": [],
   "source": []
  },
  {
   "cell_type": "code",
   "execution_count": null,
   "metadata": {},
   "outputs": [],
   "source": [
    "\n"
   ]
  },
  {
   "cell_type": "code",
   "execution_count": null,
   "metadata": {},
   "outputs": [],
   "source": []
  },
  {
   "cell_type": "code",
   "execution_count": null,
   "metadata": {},
   "outputs": [],
   "source": []
  },
  {
   "cell_type": "code",
   "execution_count": null,
   "metadata": {},
   "outputs": [],
   "source": []
  },
  {
   "cell_type": "raw",
   "metadata": {},
   "source": []
  },
  {
   "cell_type": "code",
   "execution_count": null,
   "metadata": {},
   "outputs": [],
   "source": []
  },
  {
   "cell_type": "code",
   "execution_count": null,
   "metadata": {},
   "outputs": [],
   "source": []
  },
  {
   "cell_type": "code",
   "execution_count": null,
   "metadata": {},
   "outputs": [],
   "source": []
  },
  {
   "cell_type": "code",
   "execution_count": null,
   "metadata": {},
   "outputs": [],
   "source": []
  },
  {
   "cell_type": "code",
   "execution_count": null,
   "metadata": {},
   "outputs": [],
   "source": []
  },
  {
   "cell_type": "code",
   "execution_count": null,
   "metadata": {},
   "outputs": [],
   "source": []
  },
  {
   "cell_type": "code",
   "execution_count": null,
   "metadata": {},
   "outputs": [],
   "source": []
  },
  {
   "cell_type": "code",
   "execution_count": null,
   "metadata": {},
   "outputs": [],
   "source": []
  },
  {
   "cell_type": "code",
   "execution_count": null,
   "metadata": {},
   "outputs": [],
   "source": []
  },
  {
   "cell_type": "code",
   "execution_count": null,
   "metadata": {},
   "outputs": [],
   "source": []
  },
  {
   "cell_type": "code",
   "execution_count": null,
   "metadata": {},
   "outputs": [],
   "source": []
  }
 ],
 "metadata": {
  "kernelspec": {
   "display_name": "Python 3",
   "language": "python",
   "name": "python3"
  },
  "language_info": {
   "codemirror_mode": {
    "name": "ipython",
    "version": 3
   },
   "file_extension": ".py",
   "mimetype": "text/x-python",
   "name": "python",
   "nbconvert_exporter": "python",
   "pygments_lexer": "ipython3",
   "version": "3.7.3"
  }
 },
 "nbformat": 4,
 "nbformat_minor": 2
}
